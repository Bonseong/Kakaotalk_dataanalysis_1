{
 "cells": [
  {
   "cell_type": "markdown",
   "metadata": {},
   "source": [
    "# 0. 카카오톡 단체톡방 데이터 분석"
   ]
  },
  {
   "cell_type": "markdown",
   "metadata": {},
   "source": [
    "- 정말 개인적인 호기심에 의해 시작하게 된 분석이다.\n",
    "- 단체톡방에서 누가 제일 많이 얘기를 하는지, 또 언제 얘기하는지를 알아볼 것이다!\n",
    "- 단 단체톡의 대화 내용이나 이름은 공개하지 않는다. (분석 과정은 tail(5)를 통해 일부만 보여줄 것이다.)\n",
    "- 2018년 12월 이후로 집계된 데이터이다."
   ]
  },
  {
   "cell_type": "markdown",
   "metadata": {},
   "source": [
    "# 1. 패키지 임포트 및 데이터 로드"
   ]
  },
  {
   "cell_type": "code",
   "execution_count": 94,
   "metadata": {},
   "outputs": [],
   "source": [
    "import pandas as pd\n",
    "import numpy as np\n",
    "import matplotlib as mpl\n",
    "import matplotlib.pyplot as plt\n",
    "import sklearn\n",
    "import seaborn as sns\n",
    "import matplotlib.font_manager as fm\n",
    "import datetime\n",
    "import warnings\n",
    "warnings.filterwarnings(action='ignore')\n",
    "\n",
    "mpl.rcParams['axes.unicode_minus'] = False\n",
    "\n",
    "font_location = 'C:/Windows/Fonts/NanumGothic.ttf'\n",
    "font_name = fm.FontProperties(fname=font_location).get_name()\n",
    "mpl.rc('font', family=font_name)\n",
    "\n",
    "%matplotlib inline"
   ]
  },
  {
   "cell_type": "code",
   "execution_count": 95,
   "metadata": {},
   "outputs": [],
   "source": [
    "kakao=pd.read_table('KakaoTalkChats.txt')"
   ]
  },
  {
   "cell_type": "code",
   "execution_count": 96,
   "metadata": {
    "scrolled": true
   },
   "outputs": [
    {
     "data": {
      "text/html": [
       "<div>\n",
       "<style scoped>\n",
       "    .dataframe tbody tr th:only-of-type {\n",
       "        vertical-align: middle;\n",
       "    }\n",
       "\n",
       "    .dataframe tbody tr th {\n",
       "        vertical-align: top;\n",
       "    }\n",
       "\n",
       "    .dataframe thead th {\n",
       "        text-align: right;\n",
       "    }\n",
       "</style>\n",
       "<table border=\"1\" class=\"dataframe\">\n",
       "  <thead>\n",
       "    <tr style=\"text-align: right;\">\n",
       "      <th></th>\n",
       "      <th>kakao 카카오톡 대화</th>\n",
       "    </tr>\n",
       "  </thead>\n",
       "  <tbody>\n",
       "    <tr>\n",
       "      <th>96595</th>\n",
       "      <td>2020년 3월 17일 오후 1:18, K : 내보내기</td>\n",
       "    </tr>\n",
       "    <tr>\n",
       "      <th>96596</th>\n",
       "      <td>2020년 3월 17일 오후 1:18, K : ㄱㄴ?</td>\n",
       "    </tr>\n",
       "    <tr>\n",
       "      <th>96597</th>\n",
       "      <td>2020년 3월 17일 오후 1:18, 회원님 : 내보내는 중</td>\n",
       "    </tr>\n",
       "    <tr>\n",
       "      <th>96598</th>\n",
       "      <td>2020년 3월 17일 오후 1:19, K : ㄱㄷ</td>\n",
       "    </tr>\n",
       "    <tr>\n",
       "      <th>96599</th>\n",
       "      <td>2020년 3월 17일 오후 1:19, K : ㄱㅅ</td>\n",
       "    </tr>\n",
       "  </tbody>\n",
       "</table>\n",
       "</div>"
      ],
      "text/plain": [
       "                            kakao 카카오톡 대화\n",
       "96595      2020년 3월 17일 오후 1:18, K : 내보내기\n",
       "96596       2020년 3월 17일 오후 1:18, K : ㄱㄴ?\n",
       "96597  2020년 3월 17일 오후 1:18, 회원님 : 내보내는 중\n",
       "96598        2020년 3월 17일 오후 1:19, K : ㄱㄷ\n",
       "96599        2020년 3월 17일 오후 1:19, K : ㄱㅅ"
      ]
     },
     "execution_count": 96,
     "metadata": {},
     "output_type": "execute_result"
    }
   ],
   "source": [
    "kakao.tail(5)"
   ]
  },
  {
   "cell_type": "markdown",
   "metadata": {},
   "source": [
    "- 카카오톡의 '대화 내용 내보내기' 기능을 사용하면 위와 같이 TXT 파일로 받을 수 있다.\n",
    "- 이를 적절한 전처리 과정을 통해 깔끔한 형태로 만들 것이다."
   ]
  },
  {
   "cell_type": "markdown",
   "metadata": {},
   "source": [
    "# 2. 데이터 전처리"
   ]
  },
  {
   "cell_type": "markdown",
   "metadata": {},
   "source": [
    "## DATETIME, CONTENT 분할\n",
    "- 우선 CONTENT(내용), DATETIME(시간)으로 분할한다."
   ]
  },
  {
   "cell_type": "code",
   "execution_count": 97,
   "metadata": {},
   "outputs": [],
   "source": [
    "kakao.drop(kakao.index[[0,1,2]],inplace=True)\n",
    "kakao=kakao.reset_index(drop=True)"
   ]
  },
  {
   "cell_type": "code",
   "execution_count": 98,
   "metadata": {
    "scrolled": true
   },
   "outputs": [
    {
     "data": {
      "text/html": [
       "<div>\n",
       "<style scoped>\n",
       "    .dataframe tbody tr th:only-of-type {\n",
       "        vertical-align: middle;\n",
       "    }\n",
       "\n",
       "    .dataframe tbody tr th {\n",
       "        vertical-align: top;\n",
       "    }\n",
       "\n",
       "    .dataframe thead th {\n",
       "        text-align: right;\n",
       "    }\n",
       "</style>\n",
       "<table border=\"1\" class=\"dataframe\">\n",
       "  <thead>\n",
       "    <tr style=\"text-align: right;\">\n",
       "      <th></th>\n",
       "      <th>kakao 카카오톡 대화</th>\n",
       "    </tr>\n",
       "  </thead>\n",
       "  <tbody>\n",
       "    <tr>\n",
       "      <th>96592</th>\n",
       "      <td>2020년 3월 17일 오후 1:18, K : 내보내기</td>\n",
       "    </tr>\n",
       "    <tr>\n",
       "      <th>96593</th>\n",
       "      <td>2020년 3월 17일 오후 1:18, K : ㄱㄴ?</td>\n",
       "    </tr>\n",
       "    <tr>\n",
       "      <th>96594</th>\n",
       "      <td>2020년 3월 17일 오후 1:18, 회원님 : 내보내는 중</td>\n",
       "    </tr>\n",
       "    <tr>\n",
       "      <th>96595</th>\n",
       "      <td>2020년 3월 17일 오후 1:19, K : ㄱㄷ</td>\n",
       "    </tr>\n",
       "    <tr>\n",
       "      <th>96596</th>\n",
       "      <td>2020년 3월 17일 오후 1:19, K : ㄱㅅ</td>\n",
       "    </tr>\n",
       "  </tbody>\n",
       "</table>\n",
       "</div>"
      ],
      "text/plain": [
       "                            kakao 카카오톡 대화\n",
       "96592      2020년 3월 17일 오후 1:18, K : 내보내기\n",
       "96593       2020년 3월 17일 오후 1:18, K : ㄱㄴ?\n",
       "96594  2020년 3월 17일 오후 1:18, 회원님 : 내보내는 중\n",
       "96595        2020년 3월 17일 오후 1:19, K : ㄱㄷ\n",
       "96596        2020년 3월 17일 오후 1:19, K : ㄱㅅ"
      ]
     },
     "execution_count": 98,
     "metadata": {},
     "output_type": "execute_result"
    }
   ],
   "source": [
    "kakao.tail(5)"
   ]
  },
  {
   "cell_type": "code",
   "execution_count": 99,
   "metadata": {
    "scrolled": true
   },
   "outputs": [],
   "source": [
    "kakao.columns=['CONTENT']"
   ]
  },
  {
   "cell_type": "code",
   "execution_count": 100,
   "metadata": {
    "scrolled": false
   },
   "outputs": [],
   "source": [
    "kakao['DATETIME'], kakao['CONTENT'] = kakao['CONTENT'].str.split(', ',1).str"
   ]
  },
  {
   "cell_type": "code",
   "execution_count": 101,
   "metadata": {
    "scrolled": true
   },
   "outputs": [
    {
     "data": {
      "text/html": [
       "<div>\n",
       "<style scoped>\n",
       "    .dataframe tbody tr th:only-of-type {\n",
       "        vertical-align: middle;\n",
       "    }\n",
       "\n",
       "    .dataframe tbody tr th {\n",
       "        vertical-align: top;\n",
       "    }\n",
       "\n",
       "    .dataframe thead th {\n",
       "        text-align: right;\n",
       "    }\n",
       "</style>\n",
       "<table border=\"1\" class=\"dataframe\">\n",
       "  <thead>\n",
       "    <tr style=\"text-align: right;\">\n",
       "      <th></th>\n",
       "      <th>CONTENT</th>\n",
       "      <th>DATETIME</th>\n",
       "    </tr>\n",
       "  </thead>\n",
       "  <tbody>\n",
       "    <tr>\n",
       "      <th>96592</th>\n",
       "      <td>K : 내보내기</td>\n",
       "      <td>2020년 3월 17일 오후 1:18</td>\n",
       "    </tr>\n",
       "    <tr>\n",
       "      <th>96593</th>\n",
       "      <td>K : ㄱㄴ?</td>\n",
       "      <td>2020년 3월 17일 오후 1:18</td>\n",
       "    </tr>\n",
       "    <tr>\n",
       "      <th>96594</th>\n",
       "      <td>회원님 : 내보내는 중</td>\n",
       "      <td>2020년 3월 17일 오후 1:18</td>\n",
       "    </tr>\n",
       "    <tr>\n",
       "      <th>96595</th>\n",
       "      <td>K : ㄱㄷ</td>\n",
       "      <td>2020년 3월 17일 오후 1:19</td>\n",
       "    </tr>\n",
       "    <tr>\n",
       "      <th>96596</th>\n",
       "      <td>K : ㄱㅅ</td>\n",
       "      <td>2020년 3월 17일 오후 1:19</td>\n",
       "    </tr>\n",
       "  </tbody>\n",
       "</table>\n",
       "</div>"
      ],
      "text/plain": [
       "            CONTENT              DATETIME\n",
       "96592      K : 내보내기  2020년 3월 17일 오후 1:18\n",
       "96593       K : ㄱㄴ?  2020년 3월 17일 오후 1:18\n",
       "96594  회원님 : 내보내는 중  2020년 3월 17일 오후 1:18\n",
       "96595        K : ㄱㄷ  2020년 3월 17일 오후 1:19\n",
       "96596        K : ㄱㅅ  2020년 3월 17일 오후 1:19"
      ]
     },
     "execution_count": 101,
     "metadata": {},
     "output_type": "execute_result"
    }
   ],
   "source": [
    "kakao.tail(5)"
   ]
  },
  {
   "cell_type": "markdown",
   "metadata": {},
   "source": [
    "## CONTENT 처리\n",
    "- CONTENT는 다소 처리가 까다로운 부분이다.\n",
    "- 먼저 CONTENT 부분에서 첫번째 : 를 기점으로 NAME(이름)과 CONTENT(내용)으로 다시 나눠준다.\n",
    "- NAME 중 내보내기를 한 사람은 항상 '회원님' 이라는 NAME을 가지므로 이를 처리한다.\n",
    "- CONTENT 내용 중 'A님이 B님을 초대했습니다.' 나 'C님이 퇴장하였습니다' 같은 경우에는 NAME이 결측치이므로 이를 전부 삭제하도록 한다.\n",
    "- 마지막으로 미리 정해둔 NAME 리스트에 포함되어 있지 않을 경우 이또한 결측치 처리후, 삭제한다."
   ]
  },
  {
   "cell_type": "code",
   "execution_count": 102,
   "metadata": {},
   "outputs": [],
   "source": [
    "kakao['NAME'], kakao['CONTENT'] = kakao['CONTENT'].str.split(' : ',1).str"
   ]
  },
  {
   "cell_type": "code",
   "execution_count": 103,
   "metadata": {},
   "outputs": [],
   "source": [
    "for i in range(len(kakao)):\n",
    "    if kakao['NAME'][i] == '회원님':\n",
    "        kakao['NAME'][i] = 'Y'\n",
    "    if kakao['NAME'][i] not in ['K','T','Y','O','W', 'S']:\n",
    "        kakao['NAME'][i] = 'NaN'"
   ]
  },
  {
   "cell_type": "code",
   "execution_count": 104,
   "metadata": {},
   "outputs": [],
   "source": [
    "kakao=kakao.dropna(axis=0)"
   ]
  },
  {
   "cell_type": "code",
   "execution_count": 128,
   "metadata": {},
   "outputs": [
    {
     "data": {
      "text/plain": [
       "['T', 'Y', 'K', 'O', 'W', 'S']"
      ]
     },
     "execution_count": 128,
     "metadata": {},
     "output_type": "execute_result"
    }
   ],
   "source": [
    "name_list=list(kakao.NAME.unique())\n",
    "name_list"
   ]
  },
  {
   "cell_type": "code",
   "execution_count": 106,
   "metadata": {},
   "outputs": [
    {
     "data": {
      "text/html": [
       "<div>\n",
       "<style scoped>\n",
       "    .dataframe tbody tr th:only-of-type {\n",
       "        vertical-align: middle;\n",
       "    }\n",
       "\n",
       "    .dataframe tbody tr th {\n",
       "        vertical-align: top;\n",
       "    }\n",
       "\n",
       "    .dataframe thead th {\n",
       "        text-align: right;\n",
       "    }\n",
       "</style>\n",
       "<table border=\"1\" class=\"dataframe\">\n",
       "  <thead>\n",
       "    <tr style=\"text-align: right;\">\n",
       "      <th></th>\n",
       "      <th>CONTENT</th>\n",
       "      <th>DATETIME</th>\n",
       "      <th>NAME</th>\n",
       "    </tr>\n",
       "  </thead>\n",
       "  <tbody>\n",
       "    <tr>\n",
       "      <th>96592</th>\n",
       "      <td>내보내기</td>\n",
       "      <td>2020년 3월 17일 오후 1:18</td>\n",
       "      <td>K</td>\n",
       "    </tr>\n",
       "    <tr>\n",
       "      <th>96593</th>\n",
       "      <td>ㄱㄴ?</td>\n",
       "      <td>2020년 3월 17일 오후 1:18</td>\n",
       "      <td>K</td>\n",
       "    </tr>\n",
       "    <tr>\n",
       "      <th>96594</th>\n",
       "      <td>내보내는 중</td>\n",
       "      <td>2020년 3월 17일 오후 1:18</td>\n",
       "      <td>Y</td>\n",
       "    </tr>\n",
       "    <tr>\n",
       "      <th>96595</th>\n",
       "      <td>ㄱㄷ</td>\n",
       "      <td>2020년 3월 17일 오후 1:19</td>\n",
       "      <td>K</td>\n",
       "    </tr>\n",
       "    <tr>\n",
       "      <th>96596</th>\n",
       "      <td>ㄱㅅ</td>\n",
       "      <td>2020년 3월 17일 오후 1:19</td>\n",
       "      <td>K</td>\n",
       "    </tr>\n",
       "  </tbody>\n",
       "</table>\n",
       "</div>"
      ],
      "text/plain": [
       "      CONTENT              DATETIME NAME\n",
       "96592    내보내기  2020년 3월 17일 오후 1:18    K\n",
       "96593     ㄱㄴ?  2020년 3월 17일 오후 1:18    K\n",
       "96594  내보내는 중  2020년 3월 17일 오후 1:18    Y\n",
       "96595      ㄱㄷ  2020년 3월 17일 오후 1:19    K\n",
       "96596      ㄱㅅ  2020년 3월 17일 오후 1:19    K"
      ]
     },
     "execution_count": 106,
     "metadata": {},
     "output_type": "execute_result"
    }
   ],
   "source": [
    "kakao.tail(5)"
   ]
  },
  {
   "cell_type": "markdown",
   "metadata": {},
   "source": [
    "## DATETIME 처리\n",
    "- 카카오톡의 시간은 프로그래밍이나 컴퓨터 시계라기 보단, 사용자가 직관적으로 이해하기 쉬운 구조로 되어있다.\n",
    "- 새벽 0:59 같은 경우, 오전 12:59로로 되어 있으며\n",
    "- 오후 12시 다음은 오후 1시로 되돌아 가는 구조이다.\n",
    "- 이는 추후 분석하는데 다소 어려움을 겪을 수 있으므로 24시간제로 바꾸도록 한다."
   ]
  },
  {
   "cell_type": "code",
   "execution_count": 107,
   "metadata": {
    "scrolled": false
   },
   "outputs": [],
   "source": [
    "kakao['YEAR'], kakao['MONTH'], kakao['DAY'], kakao['AM/PM'], kakao['TIME'] = kakao['DATETIME'].str.split(' ', 4).str\n",
    "del kakao['DATETIME']"
   ]
  },
  {
   "cell_type": "code",
   "execution_count": 108,
   "metadata": {
    "scrolled": true
   },
   "outputs": [],
   "source": [
    "kakao['YEAR']=kakao['YEAR'].str.slice(0,-1)\n",
    "kakao['MONTH']=kakao['MONTH'].str.slice(0,-1)\n",
    "kakao['DAY']=kakao['DAY'].str.slice(0,-1)\n",
    "kakao['HOUR'], kakao['MINUTE'] = kakao['TIME'].str.split(':', 1).str"
   ]
  },
  {
   "cell_type": "code",
   "execution_count": 109,
   "metadata": {},
   "outputs": [],
   "source": [
    "kakao=kakao.reset_index(drop=True)"
   ]
  },
  {
   "cell_type": "code",
   "execution_count": 110,
   "metadata": {},
   "outputs": [
    {
     "data": {
      "text/html": [
       "<div>\n",
       "<style scoped>\n",
       "    .dataframe tbody tr th:only-of-type {\n",
       "        vertical-align: middle;\n",
       "    }\n",
       "\n",
       "    .dataframe tbody tr th {\n",
       "        vertical-align: top;\n",
       "    }\n",
       "\n",
       "    .dataframe thead th {\n",
       "        text-align: right;\n",
       "    }\n",
       "</style>\n",
       "<table border=\"1\" class=\"dataframe\">\n",
       "  <thead>\n",
       "    <tr style=\"text-align: right;\">\n",
       "      <th></th>\n",
       "      <th>CONTENT</th>\n",
       "      <th>NAME</th>\n",
       "      <th>YEAR</th>\n",
       "      <th>MONTH</th>\n",
       "      <th>DAY</th>\n",
       "      <th>AM/PM</th>\n",
       "      <th>TIME</th>\n",
       "      <th>HOUR</th>\n",
       "      <th>MINUTE</th>\n",
       "    </tr>\n",
       "  </thead>\n",
       "  <tbody>\n",
       "    <tr>\n",
       "      <th>95124</th>\n",
       "      <td>내보내기</td>\n",
       "      <td>K</td>\n",
       "      <td>2020</td>\n",
       "      <td>3</td>\n",
       "      <td>17</td>\n",
       "      <td>오후</td>\n",
       "      <td>1:18</td>\n",
       "      <td>1</td>\n",
       "      <td>18</td>\n",
       "    </tr>\n",
       "    <tr>\n",
       "      <th>95125</th>\n",
       "      <td>ㄱㄴ?</td>\n",
       "      <td>K</td>\n",
       "      <td>2020</td>\n",
       "      <td>3</td>\n",
       "      <td>17</td>\n",
       "      <td>오후</td>\n",
       "      <td>1:18</td>\n",
       "      <td>1</td>\n",
       "      <td>18</td>\n",
       "    </tr>\n",
       "    <tr>\n",
       "      <th>95126</th>\n",
       "      <td>내보내는 중</td>\n",
       "      <td>Y</td>\n",
       "      <td>2020</td>\n",
       "      <td>3</td>\n",
       "      <td>17</td>\n",
       "      <td>오후</td>\n",
       "      <td>1:18</td>\n",
       "      <td>1</td>\n",
       "      <td>18</td>\n",
       "    </tr>\n",
       "    <tr>\n",
       "      <th>95127</th>\n",
       "      <td>ㄱㄷ</td>\n",
       "      <td>K</td>\n",
       "      <td>2020</td>\n",
       "      <td>3</td>\n",
       "      <td>17</td>\n",
       "      <td>오후</td>\n",
       "      <td>1:19</td>\n",
       "      <td>1</td>\n",
       "      <td>19</td>\n",
       "    </tr>\n",
       "    <tr>\n",
       "      <th>95128</th>\n",
       "      <td>ㄱㅅ</td>\n",
       "      <td>K</td>\n",
       "      <td>2020</td>\n",
       "      <td>3</td>\n",
       "      <td>17</td>\n",
       "      <td>오후</td>\n",
       "      <td>1:19</td>\n",
       "      <td>1</td>\n",
       "      <td>19</td>\n",
       "    </tr>\n",
       "  </tbody>\n",
       "</table>\n",
       "</div>"
      ],
      "text/plain": [
       "      CONTENT NAME  YEAR MONTH DAY AM/PM  TIME HOUR MINUTE\n",
       "95124    내보내기    K  2020     3  17    오후  1:18    1     18\n",
       "95125     ㄱㄴ?    K  2020     3  17    오후  1:18    1     18\n",
       "95126  내보내는 중    Y  2020     3  17    오후  1:18    1     18\n",
       "95127      ㄱㄷ    K  2020     3  17    오후  1:19    1     19\n",
       "95128      ㄱㅅ    K  2020     3  17    오후  1:19    1     19"
      ]
     },
     "execution_count": 110,
     "metadata": {},
     "output_type": "execute_result"
    }
   ],
   "source": [
    "kakao.tail(5)"
   ]
  },
  {
   "cell_type": "markdown",
   "metadata": {},
   "source": [
    "## 24시간제 처리\n",
    "- 시간 중 오전이자 12시라고 하면, 새벽 0시이므로 시를 0으로 설정한다.\n",
    "- 또한 오후 12시를 제외한 오후 1시 ~ 11시는 곧 13~23시를 의미하므로 각 값에 12를 더해준다."
   ]
  },
  {
   "cell_type": "code",
   "execution_count": 111,
   "metadata": {},
   "outputs": [],
   "source": [
    "kakao['HOUR'] = pd.to_numeric(kakao['HOUR'])"
   ]
  },
  {
   "cell_type": "code",
   "execution_count": 112,
   "metadata": {},
   "outputs": [],
   "source": [
    "for i in range(len(kakao)):\n",
    "    if kakao['AM/PM'][i] == '오전' and int(kakao['HOUR'][i]) == 12:\n",
    "        kakao['HOUR'][i] = 0\n",
    "    if kakao['AM/PM'][i] == '오후' and int(kakao['HOUR'][i]) < 12 :\n",
    "        kakao['HOUR'][i] += 12\n",
    "        \n",
    "        "
   ]
  },
  {
   "cell_type": "code",
   "execution_count": 113,
   "metadata": {},
   "outputs": [],
   "source": [
    "kakao=kakao[['YEAR','MONTH','DAY','HOUR','MINUTE','NAME','CONTENT']]"
   ]
  },
  {
   "cell_type": "code",
   "execution_count": 114,
   "metadata": {
    "scrolled": true
   },
   "outputs": [
    {
     "data": {
      "text/html": [
       "<div>\n",
       "<style scoped>\n",
       "    .dataframe tbody tr th:only-of-type {\n",
       "        vertical-align: middle;\n",
       "    }\n",
       "\n",
       "    .dataframe tbody tr th {\n",
       "        vertical-align: top;\n",
       "    }\n",
       "\n",
       "    .dataframe thead th {\n",
       "        text-align: right;\n",
       "    }\n",
       "</style>\n",
       "<table border=\"1\" class=\"dataframe\">\n",
       "  <thead>\n",
       "    <tr style=\"text-align: right;\">\n",
       "      <th></th>\n",
       "      <th>YEAR</th>\n",
       "      <th>MONTH</th>\n",
       "      <th>DAY</th>\n",
       "      <th>HOUR</th>\n",
       "      <th>MINUTE</th>\n",
       "      <th>NAME</th>\n",
       "      <th>CONTENT</th>\n",
       "    </tr>\n",
       "  </thead>\n",
       "  <tbody>\n",
       "    <tr>\n",
       "      <th>95124</th>\n",
       "      <td>2020</td>\n",
       "      <td>3</td>\n",
       "      <td>17</td>\n",
       "      <td>13</td>\n",
       "      <td>18</td>\n",
       "      <td>K</td>\n",
       "      <td>내보내기</td>\n",
       "    </tr>\n",
       "    <tr>\n",
       "      <th>95125</th>\n",
       "      <td>2020</td>\n",
       "      <td>3</td>\n",
       "      <td>17</td>\n",
       "      <td>13</td>\n",
       "      <td>18</td>\n",
       "      <td>K</td>\n",
       "      <td>ㄱㄴ?</td>\n",
       "    </tr>\n",
       "    <tr>\n",
       "      <th>95126</th>\n",
       "      <td>2020</td>\n",
       "      <td>3</td>\n",
       "      <td>17</td>\n",
       "      <td>13</td>\n",
       "      <td>18</td>\n",
       "      <td>Y</td>\n",
       "      <td>내보내는 중</td>\n",
       "    </tr>\n",
       "    <tr>\n",
       "      <th>95127</th>\n",
       "      <td>2020</td>\n",
       "      <td>3</td>\n",
       "      <td>17</td>\n",
       "      <td>13</td>\n",
       "      <td>19</td>\n",
       "      <td>K</td>\n",
       "      <td>ㄱㄷ</td>\n",
       "    </tr>\n",
       "    <tr>\n",
       "      <th>95128</th>\n",
       "      <td>2020</td>\n",
       "      <td>3</td>\n",
       "      <td>17</td>\n",
       "      <td>13</td>\n",
       "      <td>19</td>\n",
       "      <td>K</td>\n",
       "      <td>ㄱㅅ</td>\n",
       "    </tr>\n",
       "  </tbody>\n",
       "</table>\n",
       "</div>"
      ],
      "text/plain": [
       "       YEAR MONTH DAY  HOUR MINUTE NAME CONTENT\n",
       "95124  2020     3  17    13     18    K    내보내기\n",
       "95125  2020     3  17    13     18    K     ㄱㄴ?\n",
       "95126  2020     3  17    13     18    Y  내보내는 중\n",
       "95127  2020     3  17    13     19    K      ㄱㄷ\n",
       "95128  2020     3  17    13     19    K      ㄱㅅ"
      ]
     },
     "execution_count": 114,
     "metadata": {},
     "output_type": "execute_result"
    }
   ],
   "source": [
    "kakao.tail(5)"
   ]
  },
  {
   "cell_type": "markdown",
   "metadata": {},
   "source": [
    "## 요일 처리\n",
    "- datetime의 weekday 함수를 통해 톡을 보낸 요일의 값을 넣어준다"
   ]
  },
  {
   "cell_type": "code",
   "execution_count": 115,
   "metadata": {},
   "outputs": [],
   "source": [
    "t=['MON','TUE','WEN','THU','FRI','SAT','SUN']\n",
    "kakao['WEEKDAY']=''\n",
    "for i in range(len(kakao)):\n",
    "    kakao['WEEKDAY'][i] = t[datetime.datetime(int(kakao.iloc[i,0]),int(kakao.iloc[i,1]), int(kakao.iloc[i,2]),int(kakao.iloc[i,3]),int(kakao.iloc[i,4])).weekday()]"
   ]
  },
  {
   "cell_type": "code",
   "execution_count": 116,
   "metadata": {},
   "outputs": [
    {
     "data": {
      "text/html": [
       "<div>\n",
       "<style scoped>\n",
       "    .dataframe tbody tr th:only-of-type {\n",
       "        vertical-align: middle;\n",
       "    }\n",
       "\n",
       "    .dataframe tbody tr th {\n",
       "        vertical-align: top;\n",
       "    }\n",
       "\n",
       "    .dataframe thead th {\n",
       "        text-align: right;\n",
       "    }\n",
       "</style>\n",
       "<table border=\"1\" class=\"dataframe\">\n",
       "  <thead>\n",
       "    <tr style=\"text-align: right;\">\n",
       "      <th></th>\n",
       "      <th>YEAR</th>\n",
       "      <th>MONTH</th>\n",
       "      <th>DAY</th>\n",
       "      <th>HOUR</th>\n",
       "      <th>MINUTE</th>\n",
       "      <th>NAME</th>\n",
       "      <th>CONTENT</th>\n",
       "      <th>WEEKDAY</th>\n",
       "    </tr>\n",
       "  </thead>\n",
       "  <tbody>\n",
       "    <tr>\n",
       "      <th>95124</th>\n",
       "      <td>2020</td>\n",
       "      <td>3</td>\n",
       "      <td>17</td>\n",
       "      <td>13</td>\n",
       "      <td>18</td>\n",
       "      <td>K</td>\n",
       "      <td>내보내기</td>\n",
       "      <td>TUE</td>\n",
       "    </tr>\n",
       "    <tr>\n",
       "      <th>95125</th>\n",
       "      <td>2020</td>\n",
       "      <td>3</td>\n",
       "      <td>17</td>\n",
       "      <td>13</td>\n",
       "      <td>18</td>\n",
       "      <td>K</td>\n",
       "      <td>ㄱㄴ?</td>\n",
       "      <td>TUE</td>\n",
       "    </tr>\n",
       "    <tr>\n",
       "      <th>95126</th>\n",
       "      <td>2020</td>\n",
       "      <td>3</td>\n",
       "      <td>17</td>\n",
       "      <td>13</td>\n",
       "      <td>18</td>\n",
       "      <td>Y</td>\n",
       "      <td>내보내는 중</td>\n",
       "      <td>TUE</td>\n",
       "    </tr>\n",
       "    <tr>\n",
       "      <th>95127</th>\n",
       "      <td>2020</td>\n",
       "      <td>3</td>\n",
       "      <td>17</td>\n",
       "      <td>13</td>\n",
       "      <td>19</td>\n",
       "      <td>K</td>\n",
       "      <td>ㄱㄷ</td>\n",
       "      <td>TUE</td>\n",
       "    </tr>\n",
       "    <tr>\n",
       "      <th>95128</th>\n",
       "      <td>2020</td>\n",
       "      <td>3</td>\n",
       "      <td>17</td>\n",
       "      <td>13</td>\n",
       "      <td>19</td>\n",
       "      <td>K</td>\n",
       "      <td>ㄱㅅ</td>\n",
       "      <td>TUE</td>\n",
       "    </tr>\n",
       "  </tbody>\n",
       "</table>\n",
       "</div>"
      ],
      "text/plain": [
       "       YEAR MONTH DAY  HOUR MINUTE NAME CONTENT WEEKDAY\n",
       "95124  2020     3  17    13     18    K    내보내기     TUE\n",
       "95125  2020     3  17    13     18    K     ㄱㄴ?     TUE\n",
       "95126  2020     3  17    13     18    Y  내보내는 중     TUE\n",
       "95127  2020     3  17    13     19    K      ㄱㄷ     TUE\n",
       "95128  2020     3  17    13     19    K      ㄱㅅ     TUE"
      ]
     },
     "execution_count": 116,
     "metadata": {},
     "output_type": "execute_result"
    }
   ],
   "source": [
    "kakao.tail(5)"
   ]
  },
  {
   "cell_type": "markdown",
   "metadata": {},
   "source": [
    "# 3. 점유율 분석"
   ]
  },
  {
   "cell_type": "markdown",
   "metadata": {},
   "source": [
    "## 3.1 전체 점유율\n",
    "- 이제 모든 전처리 과정이 끝났다. 간단한 분석을 통해 누가 제일 많이 말했는지, 또 이를 시각화하고자 한다."
   ]
  },
  {
   "cell_type": "code",
   "execution_count": 117,
   "metadata": {},
   "outputs": [],
   "source": [
    "df=kakao.groupby('NAME').count().sort_values(by=['CONTENT'], ascending=False)"
   ]
  },
  {
   "cell_type": "code",
   "execution_count": 118,
   "metadata": {},
   "outputs": [],
   "source": [
    "df['PERCENT'] = df['CONTENT']/sum(df['CONTENT'])"
   ]
  },
  {
   "cell_type": "code",
   "execution_count": 124,
   "metadata": {},
   "outputs": [
    {
     "data": {
      "text/html": [
       "<div>\n",
       "<style scoped>\n",
       "    .dataframe tbody tr th:only-of-type {\n",
       "        vertical-align: middle;\n",
       "    }\n",
       "\n",
       "    .dataframe tbody tr th {\n",
       "        vertical-align: top;\n",
       "    }\n",
       "\n",
       "    .dataframe thead th {\n",
       "        text-align: right;\n",
       "    }\n",
       "</style>\n",
       "<table border=\"1\" class=\"dataframe\">\n",
       "  <thead>\n",
       "    <tr style=\"text-align: right;\">\n",
       "      <th></th>\n",
       "      <th>CONTENT</th>\n",
       "      <th>PERCENT</th>\n",
       "    </tr>\n",
       "    <tr>\n",
       "      <th>NAME</th>\n",
       "      <th></th>\n",
       "      <th></th>\n",
       "    </tr>\n",
       "  </thead>\n",
       "  <tbody>\n",
       "    <tr>\n",
       "      <th>Y</th>\n",
       "      <td>32101</td>\n",
       "      <td>0.337447</td>\n",
       "    </tr>\n",
       "    <tr>\n",
       "      <th>K</th>\n",
       "      <td>28290</td>\n",
       "      <td>0.297386</td>\n",
       "    </tr>\n",
       "    <tr>\n",
       "      <th>T</th>\n",
       "      <td>16129</td>\n",
       "      <td>0.169549</td>\n",
       "    </tr>\n",
       "    <tr>\n",
       "      <th>O</th>\n",
       "      <td>10777</td>\n",
       "      <td>0.113288</td>\n",
       "    </tr>\n",
       "    <tr>\n",
       "      <th>S</th>\n",
       "      <td>7022</td>\n",
       "      <td>0.073816</td>\n",
       "    </tr>\n",
       "    <tr>\n",
       "      <th>W</th>\n",
       "      <td>810</td>\n",
       "      <td>0.008515</td>\n",
       "    </tr>\n",
       "  </tbody>\n",
       "</table>\n",
       "</div>"
      ],
      "text/plain": [
       "      CONTENT   PERCENT\n",
       "NAME                   \n",
       "Y       32101  0.337447\n",
       "K       28290  0.297386\n",
       "T       16129  0.169549\n",
       "O       10777  0.113288\n",
       "S        7022  0.073816\n",
       "W         810  0.008515"
      ]
     },
     "execution_count": 124,
     "metadata": {},
     "output_type": "execute_result"
    }
   ],
   "source": [
    "df[['CONTENT', 'PERCENT']]"
   ]
  },
  {
   "cell_type": "code",
   "execution_count": 125,
   "metadata": {
    "scrolled": true
   },
   "outputs": [
    {
     "data": {
      "image/png": "[encoded data removed]",
      "text/plain": [
       "<Figure size 432x288 with 1 Axes>"
      ]
     },
     "metadata": {
      "needs_background": "light"
     },
     "output_type": "display_data"
    }
   ],
   "source": [
    "df['PERCENT'].plot(kind='bar')\n",
    "plt.xticks(rotation=0)\n",
    "plt.show()"
   ]
  },
  {
   "cell_type": "markdown",
   "metadata": {},
   "source": [
    "- Y가 3만여건으로 가장 많은 대화지분을 가졌다.\n",
    "- W는 말을 하는지 마는지 약 1년 반동안 500마디 밖에 안했다... 하루에 한마디씩 하고 사나보다."
   ]
  },
  {
   "cell_type": "markdown",
   "metadata": {},
   "source": [
    "## 3.2 시간대별 점유율\n",
    "- seaborn 패키지의 kdeplot을 통해 어느 시간대에 개인이 말을 하는지 알아보고자 한다.\n",
    "- 만약 (시간대 - 톡비율) 그래프를 그린다면 막대그래프나 선그래프로 다소 보기 불편할 수도 있다.\n",
    "- 따라서 Kernal 방법을 통해 유연한 곡선을 그려보고자 한다."
   ]
  },
  {
   "cell_type": "code",
   "execution_count": 131,
   "metadata": {
    "scrolled": true
   },
   "outputs": [
    {
     "data": {
      "image/png": "[encoded data removed]",
      "text/plain": [
       "<Figure size 432x288 with 1 Axes>"
      ]
     },
     "metadata": {
      "needs_background": "light"
     },
     "output_type": "display_data"
    }
   ],
   "source": [
    "g = sns.kdeplot(kakao['HOUR'][(kakao['NAME'] == 'T') & (kakao[\"HOUR\"].notnull())], color=\"Red\", shade = True)\n",
    "g = sns.kdeplot(kakao['HOUR'][(kakao['NAME'] == 'Y') & (kakao[\"HOUR\"].notnull())], ax =g, color=\"Blue\", shade= True)\n",
    "g = sns.kdeplot(kakao['HOUR'][(kakao['NAME'] == 'K') & (kakao[\"HOUR\"].notnull())], ax =g, color=\"Yellow\", shade= True)\n",
    "g = sns.kdeplot(kakao['HOUR'][(kakao['NAME'] == 'O') & (kakao[\"HOUR\"].notnull())], ax =g, color=\"Green\", shade= True)\n",
    "g = sns.kdeplot(kakao['HOUR'][(kakao['NAME'] == 'W') & (kakao[\"HOUR\"].notnull())], ax =g, color=\"Black\", shade= True)\n",
    "g = sns.kdeplot(kakao['HOUR'][(kakao['NAME'] == 'S') & (kakao[\"HOUR\"].notnull())], ax =g, color=\"Orange\", shade= True)\n",
    "\n",
    "\n",
    "g.set_xlabel(\"viewCount\")\n",
    "g.set_ylabel(\"Frequency\")\n",
    "g.axis([0,24,0,0.15])\n",
    "g = g.legend(name_list)"
   ]
  },
  {
   "cell_type": "markdown",
   "metadata": {},
   "source": [
    "- 6명 모두 한 그래프에 그리니 개인의 특징을 잘 살리기가 어려웠다.\n",
    "- 그 중 'O' 는 직장인이고, 'Y' 는 아직 졸업을 한지 얼마 되지 않았다. 따라서 두명만 따로 알아보고자 한다."
   ]
  },
  {
   "cell_type": "code",
   "execution_count": 133,
   "metadata": {},
   "outputs": [
    {
     "data": {
      "image/png": "[encoded data removed]",
      "text/plain": [
       "<Figure size 432x288 with 1 Axes>"
      ]
     },
     "metadata": {
      "needs_background": "light"
     },
     "output_type": "display_data"
    }
   ],
   "source": [
    "g = sns.kdeplot(kakao['HOUR'][(kakao['NAME'] == 'O') & (kakao[\"HOUR\"].notnull())], color=\"Red\", shade = True)\n",
    "g = sns.kdeplot(kakao['HOUR'][(kakao['NAME'] == 'Y') & (kakao[\"HOUR\"].notnull())], ax =g, color=\"Yellow\", shade= True)\n",
    "\n",
    "\n",
    "g.set_xlabel(\"viewCount\")\n",
    "g.set_ylabel(\"Frequency\")\n",
    "g.axis([0,24,0,0.15])\n",
    "g = g.legend([\"O\",'Y'])"
   ]
  },
  {
   "cell_type": "markdown",
   "metadata": {},
   "source": [
    "- 'O' 는 9시~15시까지 다소 저조하다가 퇴근시간이 되면 보다 톡이 많아진다.\n",
    "- 하지만 학생이었던 'Y'는 다소 시간이 들쑥날쑥하기도 하며 특히 22~02시에도 톡이 보다 활발한 것을 볼 수 있었다."
   ]
  },
  {
   "cell_type": "markdown",
   "metadata": {},
   "source": [
    "## 3.3 요일별 점유율"
   ]
  },
  {
   "cell_type": "markdown",
   "metadata": {},
   "source": [
    "### 3.3.1 전체 점유율"
   ]
  },
  {
   "cell_type": "code",
   "execution_count": 135,
   "metadata": {
    "scrolled": false
   },
   "outputs": [
    {
     "data": {
      "text/html": [
       "<div>\n",
       "<style scoped>\n",
       "    .dataframe tbody tr th:only-of-type {\n",
       "        vertical-align: middle;\n",
       "    }\n",
       "\n",
       "    .dataframe tbody tr th {\n",
       "        vertical-align: top;\n",
       "    }\n",
       "\n",
       "    .dataframe thead th {\n",
       "        text-align: right;\n",
       "    }\n",
       "</style>\n",
       "<table border=\"1\" class=\"dataframe\">\n",
       "  <thead>\n",
       "    <tr style=\"text-align: right;\">\n",
       "      <th></th>\n",
       "      <th>CONTENT</th>\n",
       "      <th>PERCENT</th>\n",
       "    </tr>\n",
       "    <tr>\n",
       "      <th>WEEKDAY</th>\n",
       "      <th></th>\n",
       "      <th></th>\n",
       "    </tr>\n",
       "  </thead>\n",
       "  <tbody>\n",
       "    <tr>\n",
       "      <th>MON</th>\n",
       "      <td>11466</td>\n",
       "      <td>0.120531</td>\n",
       "    </tr>\n",
       "    <tr>\n",
       "      <th>TUE</th>\n",
       "      <td>14999</td>\n",
       "      <td>0.157670</td>\n",
       "    </tr>\n",
       "    <tr>\n",
       "      <th>WEN</th>\n",
       "      <td>13302</td>\n",
       "      <td>0.139831</td>\n",
       "    </tr>\n",
       "    <tr>\n",
       "      <th>THU</th>\n",
       "      <td>16539</td>\n",
       "      <td>0.173859</td>\n",
       "    </tr>\n",
       "    <tr>\n",
       "      <th>FRI</th>\n",
       "      <td>18053</td>\n",
       "      <td>0.189774</td>\n",
       "    </tr>\n",
       "    <tr>\n",
       "      <th>SAT</th>\n",
       "      <td>13030</td>\n",
       "      <td>0.136972</td>\n",
       "    </tr>\n",
       "    <tr>\n",
       "      <th>SUN</th>\n",
       "      <td>7740</td>\n",
       "      <td>0.081363</td>\n",
       "    </tr>\n",
       "  </tbody>\n",
       "</table>\n",
       "</div>"
      ],
      "text/plain": [
       "         CONTENT   PERCENT\n",
       "WEEKDAY                   \n",
       "MON        11466  0.120531\n",
       "TUE        14999  0.157670\n",
       "WEN        13302  0.139831\n",
       "THU        16539  0.173859\n",
       "FRI        18053  0.189774\n",
       "SAT        13030  0.136972\n",
       "SUN         7740  0.081363"
      ]
     },
     "execution_count": 135,
     "metadata": {},
     "output_type": "execute_result"
    }
   ],
   "source": [
    "output=pd.DataFrame(kakao.groupby('WEEKDAY').count()['CONTENT'])\n",
    "output=output.reindex(t)\n",
    "output['PERCENT'] = output['CONTENT']/sum(output['CONTENT'])\n",
    "output"
   ]
  },
  {
   "cell_type": "markdown",
   "metadata": {},
   "source": [
    "- 역시 불금아니랄까봐 금요일에 가장 많은 톡을 보내고 있다.\n",
    "- 눈에 띄는 것은 역시 월요병인가 보다! 월요일에는 평일 중 가장 저조한 톡을 보내고 있다.\n",
    "- 일요일은 모두 쉬는 날이니 톡도 쉬나보다."
   ]
  },
  {
   "cell_type": "markdown",
   "metadata": {},
   "source": [
    "### 3.3.2 개인별 점유율\n",
    "- 개인별로 어느 요일에 가장 대화가 활발한지 알아보가자 한다.\n",
    "- 엑셀에서 있는 피벗테이블은 파이썬에 이미 구현되어 있다. 이 기능을 통해 각자의 점유율을 알아보고자 한다."
   ]
  },
  {
   "cell_type": "code",
   "execution_count": 141,
   "metadata": {},
   "outputs": [],
   "source": [
    "output=pd.pivot_table(kakao, index = 'NAME',columns='WEEKDAY', values = 'CONTENT', aggfunc = 'count')\n",
    "output['SUM']=''"
   ]
  },
  {
   "cell_type": "code",
   "execution_count": 142,
   "metadata": {},
   "outputs": [],
   "source": [
    "for i in range(len(output)):\n",
    "    output.iloc[i,7] = sum(output.iloc[i,0:7])"
   ]
  },
  {
   "cell_type": "code",
   "execution_count": 143,
   "metadata": {},
   "outputs": [],
   "source": [
    "for i in range(output.shape[0]):\n",
    "    for j in range(output.shape[1]-1):\n",
    "        output.iloc[i,j] = format(output.iloc[i,j] / output.iloc[i,7], '10.1%')"
   ]
  },
  {
   "cell_type": "code",
   "execution_count": 144,
   "metadata": {
    "scrolled": true
   },
   "outputs": [
    {
     "data": {
      "text/html": [
       "<div>\n",
       "<style scoped>\n",
       "    .dataframe tbody tr th:only-of-type {\n",
       "        vertical-align: middle;\n",
       "    }\n",
       "\n",
       "    .dataframe tbody tr th {\n",
       "        vertical-align: top;\n",
       "    }\n",
       "\n",
       "    .dataframe thead th {\n",
       "        text-align: right;\n",
       "    }\n",
       "</style>\n",
       "<table border=\"1\" class=\"dataframe\">\n",
       "  <thead>\n",
       "    <tr style=\"text-align: right;\">\n",
       "      <th>WEEKDAY</th>\n",
       "      <th>MON</th>\n",
       "      <th>TUE</th>\n",
       "      <th>WEN</th>\n",
       "      <th>THU</th>\n",
       "      <th>FRI</th>\n",
       "      <th>SAT</th>\n",
       "      <th>SUN</th>\n",
       "    </tr>\n",
       "    <tr>\n",
       "      <th>NAME</th>\n",
       "      <th></th>\n",
       "      <th></th>\n",
       "      <th></th>\n",
       "      <th></th>\n",
       "      <th></th>\n",
       "      <th></th>\n",
       "      <th></th>\n",
       "    </tr>\n",
       "  </thead>\n",
       "  <tbody>\n",
       "    <tr>\n",
       "      <th>K</th>\n",
       "      <td>12.4%</td>\n",
       "      <td>16.5%</td>\n",
       "      <td>14.5%</td>\n",
       "      <td>18.3%</td>\n",
       "      <td>18.6%</td>\n",
       "      <td>12.3%</td>\n",
       "      <td>7.5%</td>\n",
       "    </tr>\n",
       "    <tr>\n",
       "      <th>O</th>\n",
       "      <td>8.0%</td>\n",
       "      <td>12.1%</td>\n",
       "      <td>13.3%</td>\n",
       "      <td>16.6%</td>\n",
       "      <td>22.4%</td>\n",
       "      <td>17.7%</td>\n",
       "      <td>9.8%</td>\n",
       "    </tr>\n",
       "    <tr>\n",
       "      <th>S</th>\n",
       "      <td>13.2%</td>\n",
       "      <td>16.2%</td>\n",
       "      <td>15.1%</td>\n",
       "      <td>18.6%</td>\n",
       "      <td>19.5%</td>\n",
       "      <td>10.4%</td>\n",
       "      <td>7.0%</td>\n",
       "    </tr>\n",
       "    <tr>\n",
       "      <th>T</th>\n",
       "      <td>11.5%</td>\n",
       "      <td>17.1%</td>\n",
       "      <td>14.0%</td>\n",
       "      <td>16.3%</td>\n",
       "      <td>19.1%</td>\n",
       "      <td>14.4%</td>\n",
       "      <td>7.7%</td>\n",
       "    </tr>\n",
       "    <tr>\n",
       "      <th>W</th>\n",
       "      <td>10.7%</td>\n",
       "      <td>10.0%</td>\n",
       "      <td>11.6%</td>\n",
       "      <td>11.1%</td>\n",
       "      <td>18.8%</td>\n",
       "      <td>17.8%</td>\n",
       "      <td>20.0%</td>\n",
       "    </tr>\n",
       "    <tr>\n",
       "      <th>Y</th>\n",
       "      <td>13.2%</td>\n",
       "      <td>15.7%</td>\n",
       "      <td>13.6%</td>\n",
       "      <td>17.3%</td>\n",
       "      <td>18.0%</td>\n",
       "      <td>13.8%</td>\n",
       "      <td>8.3%</td>\n",
       "    </tr>\n",
       "  </tbody>\n",
       "</table>\n",
       "</div>"
      ],
      "text/plain": [
       "WEEKDAY         MON         TUE         WEN         THU         FRI  \\\n",
       "NAME                                                                  \n",
       "K             12.4%       16.5%       14.5%       18.3%       18.6%   \n",
       "O              8.0%       12.1%       13.3%       16.6%       22.4%   \n",
       "S             13.2%       16.2%       15.1%       18.6%       19.5%   \n",
       "T             11.5%       17.1%       14.0%       16.3%       19.1%   \n",
       "W             10.7%       10.0%       11.6%       11.1%       18.8%   \n",
       "Y             13.2%       15.7%       13.6%       17.3%       18.0%   \n",
       "\n",
       "WEEKDAY         SAT         SUN  \n",
       "NAME                             \n",
       "K             12.3%        7.5%  \n",
       "O             17.7%        9.8%  \n",
       "S             10.4%        7.0%  \n",
       "T             14.4%        7.7%  \n",
       "W             17.8%       20.0%  \n",
       "Y             13.8%        8.3%  "
      ]
     },
     "execution_count": 144,
     "metadata": {},
     "output_type": "execute_result"
    }
   ],
   "source": [
    "output=output[t]\n",
    "output"
   ]
  },
  {
   "cell_type": "markdown",
   "metadata": {},
   "source": [
    "- 가장 눈에 띄는 것은 역시 직장인 'O'다.\n",
    "- 월요일에서 금요일로 갈수록 주말을 기다리는 마음에 점점 말이 많아진다!\n",
    "- 평균적으로 금요일로 갈수록 비율이 늘어나는 것을 볼 수 있다."
   ]
  },
  {
   "cell_type": "markdown",
   "metadata": {},
   "source": [
    "# 4. 컨텐츠 분석\n",
    "- 카카오톡에는 '사진', '이모티콘' 같이 텍스트가 아닌 다른 컨텐츠를 보내는 기능도 있다.\n",
    "- 누가 가장 많이 사용했는지 알아보고자 한다.\n",
    "- 추후 다른 분석에서는 다른 키워드를 통해 더 흥미로운 결과를 얻을 수 있을 것이다."
   ]
  },
  {
   "cell_type": "markdown",
   "metadata": {},
   "source": [
    "## 4.1 사진 매니아"
   ]
  },
  {
   "cell_type": "code",
   "execution_count": 155,
   "metadata": {},
   "outputs": [],
   "source": [
    "df=kakao[kakao['CONTENT']=='사진']"
   ]
  },
  {
   "cell_type": "code",
   "execution_count": 156,
   "metadata": {},
   "outputs": [
    {
     "data": {
      "text/html": [
       "<div>\n",
       "<style scoped>\n",
       "    .dataframe tbody tr th:only-of-type {\n",
       "        vertical-align: middle;\n",
       "    }\n",
       "\n",
       "    .dataframe tbody tr th {\n",
       "        vertical-align: top;\n",
       "    }\n",
       "\n",
       "    .dataframe thead th {\n",
       "        text-align: right;\n",
       "    }\n",
       "</style>\n",
       "<table border=\"1\" class=\"dataframe\">\n",
       "  <thead>\n",
       "    <tr style=\"text-align: right;\">\n",
       "      <th></th>\n",
       "      <th>CONTENT</th>\n",
       "    </tr>\n",
       "    <tr>\n",
       "      <th>NAME</th>\n",
       "      <th></th>\n",
       "    </tr>\n",
       "  </thead>\n",
       "  <tbody>\n",
       "    <tr>\n",
       "      <th>Y</th>\n",
       "      <td>626</td>\n",
       "    </tr>\n",
       "    <tr>\n",
       "      <th>K</th>\n",
       "      <td>579</td>\n",
       "    </tr>\n",
       "    <tr>\n",
       "      <th>T</th>\n",
       "      <td>342</td>\n",
       "    </tr>\n",
       "    <tr>\n",
       "      <th>O</th>\n",
       "      <td>158</td>\n",
       "    </tr>\n",
       "    <tr>\n",
       "      <th>S</th>\n",
       "      <td>121</td>\n",
       "    </tr>\n",
       "    <tr>\n",
       "      <th>W</th>\n",
       "      <td>11</td>\n",
       "    </tr>\n",
       "  </tbody>\n",
       "</table>\n",
       "</div>"
      ],
      "text/plain": [
       "      CONTENT\n",
       "NAME         \n",
       "Y         626\n",
       "K         579\n",
       "T         342\n",
       "O         158\n",
       "S         121\n",
       "W          11"
      ]
     },
     "execution_count": 156,
     "metadata": {},
     "output_type": "execute_result"
    }
   ],
   "source": [
    "pd.DataFrame(df.groupby('NAME').count()['CONTENT']).sort_values(by=['CONTENT'], ascending=False)"
   ]
  },
  {
   "cell_type": "markdown",
   "metadata": {},
   "source": [
    "- 'Y'는 가장 많은 사진을 보내고 있었다!"
   ]
  },
  {
   "cell_type": "markdown",
   "metadata": {},
   "source": [
    "## 4.2 유튜브 업로더"
   ]
  },
  {
   "cell_type": "code",
   "execution_count": 157,
   "metadata": {},
   "outputs": [],
   "source": [
    "df=kakao[kakao.CONTENT.str.contains('www.youtube.com', na=False)]"
   ]
  },
  {
   "cell_type": "code",
   "execution_count": 159,
   "metadata": {},
   "outputs": [
    {
     "data": {
      "text/html": [
       "<div>\n",
       "<style scoped>\n",
       "    .dataframe tbody tr th:only-of-type {\n",
       "        vertical-align: middle;\n",
       "    }\n",
       "\n",
       "    .dataframe tbody tr th {\n",
       "        vertical-align: top;\n",
       "    }\n",
       "\n",
       "    .dataframe thead th {\n",
       "        text-align: right;\n",
       "    }\n",
       "</style>\n",
       "<table border=\"1\" class=\"dataframe\">\n",
       "  <thead>\n",
       "    <tr style=\"text-align: right;\">\n",
       "      <th></th>\n",
       "      <th>YEAR</th>\n",
       "      <th>MONTH</th>\n",
       "      <th>DAY</th>\n",
       "      <th>HOUR</th>\n",
       "      <th>MINUTE</th>\n",
       "      <th>CONTENT</th>\n",
       "      <th>WEEKDAY</th>\n",
       "    </tr>\n",
       "    <tr>\n",
       "      <th>NAME</th>\n",
       "      <th></th>\n",
       "      <th></th>\n",
       "      <th></th>\n",
       "      <th></th>\n",
       "      <th></th>\n",
       "      <th></th>\n",
       "      <th></th>\n",
       "    </tr>\n",
       "  </thead>\n",
       "  <tbody>\n",
       "    <tr>\n",
       "      <th>Y</th>\n",
       "      <td>194</td>\n",
       "      <td>194</td>\n",
       "      <td>194</td>\n",
       "      <td>194</td>\n",
       "      <td>194</td>\n",
       "      <td>194</td>\n",
       "      <td>194</td>\n",
       "    </tr>\n",
       "    <tr>\n",
       "      <th>K</th>\n",
       "      <td>48</td>\n",
       "      <td>48</td>\n",
       "      <td>48</td>\n",
       "      <td>48</td>\n",
       "      <td>48</td>\n",
       "      <td>48</td>\n",
       "      <td>48</td>\n",
       "    </tr>\n",
       "    <tr>\n",
       "      <th>O</th>\n",
       "      <td>29</td>\n",
       "      <td>29</td>\n",
       "      <td>29</td>\n",
       "      <td>29</td>\n",
       "      <td>29</td>\n",
       "      <td>29</td>\n",
       "      <td>29</td>\n",
       "    </tr>\n",
       "    <tr>\n",
       "      <th>T</th>\n",
       "      <td>24</td>\n",
       "      <td>24</td>\n",
       "      <td>24</td>\n",
       "      <td>24</td>\n",
       "      <td>24</td>\n",
       "      <td>24</td>\n",
       "      <td>24</td>\n",
       "    </tr>\n",
       "  </tbody>\n",
       "</table>\n",
       "</div>"
      ],
      "text/plain": [
       "      YEAR  MONTH  DAY  HOUR  MINUTE  CONTENT  WEEKDAY\n",
       "NAME                                                  \n",
       "Y      194    194  194   194     194      194      194\n",
       "K       48     48   48    48      48       48       48\n",
       "O       29     29   29    29      29       29       29\n",
       "T       24     24   24    24      24       24       24"
      ]
     },
     "execution_count": 159,
     "metadata": {},
     "output_type": "execute_result"
    }
   ],
   "source": [
    "df.groupby('NAME').count().sort_values(by=['CONTENT'], ascending=False)"
   ]
  },
  {
   "cell_type": "markdown",
   "metadata": {},
   "source": [
    "- 역시 'Y'는 유튜브 영상을 가장 많이 보내고 있었다...\n",
    "- 값이 없는 사람은 단 한번도 유튜브 업로드를 하지 않았거나 '샵검색' 이라는 기능을 통해 업로드하고 있었다."
   ]
  },
  {
   "cell_type": "markdown",
   "metadata": {},
   "source": [
    "# 5. 마치며\n",
    "- 간단한 비율 분석이나 콘텐츠 분석을 통해 재미있느 결과를 도출하였다!\n",
    "- 다음 분석에서는 자연어처리를 통해 어떤 주제로 이야기를 많이 하는지, 또 각자 가장 많이 얘기하는 주제는 무엇인지 알아보고자 한다."
   ]
  }
 ],
 "metadata": {
  "kernelspec": {
   "display_name": "Python 3",
   "language": "python",
   "name": "python3"
  },
  "language_info": {
   "codemirror_mode": {
    "name": "ipython",
    "version": 3
   },
   "file_extension": ".py",
   "mimetype": "text/x-python",
   "name": "python",
   "nbconvert_exporter": "python",
   "pygments_lexer": "ipython3",
   "version": "3.8.1"
  }
 },
 "nbformat": 4,
 "nbformat_minor": 4
}
